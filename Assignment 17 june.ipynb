{
 "cells": [
  {
   "cell_type": "markdown",
   "id": "15bec1a9-6d9f-4746-ae36-b553a9babfdc",
   "metadata": {},
   "source": [
    "Que1.What is the role of try and exception block?"
   ]
  },
  {
   "cell_type": "markdown",
   "id": "7a6e6d30-5832-4c99-bc2f-d6fea7394642",
   "metadata": {},
   "source": [
    "Ans The \"try\" and \"except\" block, also known as exception handling, is a construct used in programming languages to handle and manage errors or exceptional situations that may occur during the execution of a program. It allows developers to anticipate and gracefully handle errors, preventing the program from crashing or producing undesired results.\n",
    "\n",
    "Here's how the try-except block works:\n",
    "\n",
    "The \"try\" block: This is where you place the code that might raise an exception or encounter an error. It is the portion of code that you want to monitor for exceptions. If an exception occurs within the try block, the execution of the try block is immediately halted, and the control is transferred to the corresponding \"except\" block.\n",
    "\n",
    "The \"except\" block: This block is executed only if an exception occurs within the corresponding try block. It defines the handling mechanism for the exception, allowing you to specify how the program should respond to different types of exceptions. You can catch specific types of exceptions and provide appropriate error handling code, or you can have a more general except block that catches any exception.\n",
    "\n"
   ]
  },
  {
   "cell_type": "markdown",
   "id": "ce97f323-61f8-4a17-b8b2-e5f45352f60d",
   "metadata": {},
   "source": [
    "Que2. What is the syntax for a basic try-except block?"
   ]
  },
  {
   "cell_type": "markdown",
   "id": "b0f2db33-5617-4537-9f7e-060c3429f425",
   "metadata": {},
   "source": [
    "try:\n",
    "    # Code that may raise an exception\n",
    "    # ...\n",
    "    except ExceptionType:\n",
    "    # Code to handle the exception\n",
    "    # ..."
   ]
  },
  {
   "cell_type": "markdown",
   "id": "f5507ffc-328d-41b0-af40-01bd55f2b73f",
   "metadata": {},
   "source": [
    "Que 3. What happens if an exception occurs inside a try block and there is no matching\n",
    "except block?"
   ]
  },
  {
   "cell_type": "markdown",
   "id": "22ea6078-e1f0-4d36-9f8f-b7cca6ad29ce",
   "metadata": {},
   "source": [
    "If an exception occurs inside a try block and there is no matching except block to handle that specific exception, the program's execution will be interrupted, and an error message will be displayed. This error message typically includes information about the exception that was raised and the traceback, which shows the sequence of function calls that led to the exception.\n",
    "\n",
    "In Python, when an exception is raised and not caught by a corresponding except block, it is considered an unhandled exception. The program will terminate, and the interpreter will print the exception traceback to the console. This traceback provides information about the line of code where the exception occurred and the call stack leading up to that point."
   ]
  },
  {
   "cell_type": "markdown",
   "id": "5ae3ec0d-e412-4020-89d2-830ceb4897de",
   "metadata": {},
   "source": [
    "try:\n",
    "    # Some code that may raise an exception\n",
    "    result = 10 / 0  # Division by zero raises a ZeroDivisionError\n",
    "except ValueError:\n",
    "    # This except block will not handle the ZeroDivisionError\n",
    "    print(\"Caught a ValueError\")"
   ]
  },
  {
   "cell_type": "markdown",
   "id": "7478c618-679f-4089-a73c-8a221e0c5d66",
   "metadata": {},
   "source": [
    "Que4.What is the difference between using a bare except block and specifying a specific\n",
    "exception type?"
   ]
  },
  {
   "cell_type": "markdown",
   "id": "c03b9596-7ffa-446c-beb2-3cfce0edee08",
   "metadata": {},
   "source": [
    "Ans Bare except block:\n",
    "A bare except block catches any exception that occurs within its associated try block, regardless of the type of exception. It serves as a catch-all for all exceptions. While it may seem convenient to handle any exception in a single block, using a bare except block is generally considered bad practice. It can make it harder to identify and troubleshoot specific issues because the block captures all exceptions indiscriminately, including unexpected errors that you might want to know about. It's recommended to use a more targeted approach by specifying the specific exception types you want to handle.\n",
    "\n",
    "Specifying a specific exception type:\n",
    "Specifying a specific exception type allows you to catch and handle only the exceptions of that particular type. By explicitly mentioning the exception type(s), you can provide more targeted and appropriate error handling for specific situations. This approach enables you to differentiate between different types of exceptions and handle them accordingly. It also helps in making your code more readable and maintainable as it clearly states the exceptions you expect to handle. Additionally, specifying specific exception types allows unexpected exceptions to propagate up the call stack, which can aid in debugging and identifying the root cause of issues."
   ]
  },
  {
   "cell_type": "markdown",
   "id": "79312584-cde9-4dd1-9c34-c2d917367093",
   "metadata": {},
   "source": [
    "Que 5.Can you have nested try-except blocks in Python? If yes, then give an example."
   ]
  },
  {
   "cell_type": "code",
   "execution_count": 23,
   "id": "f8f06c2d-e967-43d4-b452-65f7dfb5a592",
   "metadata": {},
   "outputs": [
    {
     "name": "stdout",
     "output_type": "stream",
     "text": [
      "ZeroDivisionError occurred in the outer try block.\n"
     ]
    }
   ],
   "source": [
    "try:\n",
    "    # Outer try block\n",
    "    # This code may raise an exception\n",
    "    outer_variable = 10 / 0\n",
    "    \n",
    "    try:\n",
    "        # Inner try block\n",
    "        # This code may also raise an exception\n",
    "        inner_variable = int('abc')\n",
    "        \n",
    "    except ValueError:\n",
    "        # Exception handler for ValueError in the inner try block\n",
    "        print(\"ValueError occurred in the inner try block.\")\n",
    "    \n",
    "except ZeroDivisionError:\n",
    "    # Exception handler for ZeroDivisionError in the outer try block\n",
    "    print(\"ZeroDivisionError occurred in the outer try block.\")"
   ]
  },
  {
   "cell_type": "markdown",
   "id": "97b8db36-1977-49a4-9883-c09bc54d4e22",
   "metadata": {},
   "source": [
    "Que 6.Can we use multiple exception blocks, if yes then give an example."
   ]
  },
  {
   "cell_type": "code",
   "execution_count": 24,
   "id": "290b913c-4ab2-4c41-b934-8bbcfacff47a",
   "metadata": {},
   "outputs": [
    {
     "name": "stdin",
     "output_type": "stream",
     "text": [
      "Enter a number:  10\n"
     ]
    },
    {
     "name": "stdout",
     "output_type": "stream",
     "text": [
      "Result: 10.0\n"
     ]
    }
   ],
   "source": [
    "try:\n",
    "    # Code that may raise exceptions\n",
    "    num = int(input(\"Enter a number: \"))\n",
    "    result = 100 / num\n",
    "    print(\"Result:\", result)\n",
    "\n",
    "except ValueError:\n",
    "    # Handle a ValueError exception (e.g., user entered a non-numeric value)\n",
    "    print(\"Invalid input. Please enter a valid number.\")\n",
    "\n",
    "except ZeroDivisionError:\n",
    "    # Handle a ZeroDivisionError exception (e.g., user entered 0)\n",
    "    print(\"Cannot divide by zero.\")\n",
    "\n",
    "except Exception as e:\n",
    "    # Handle any other exception that may occur\n",
    "    print(\"An error occurred:\", str(e))"
   ]
  },
  {
   "cell_type": "markdown",
   "id": "468e0519-bb8d-4d99-9f88-f9910418a3cd",
   "metadata": {},
   "source": [
    "Que 7. Write the reason due to which following errors are raised:\n",
    "a. EOFError\n",
    "b. FloatingPointError\n",
    "c. IndexError\n",
    "d. MemoryError\n",
    "e. OverflowError\n",
    "f. TabError\n",
    "g. ValueError"
   ]
  },
  {
   "cell_type": "markdown",
   "id": "8c9b503b-e26c-41c3-8327-83f4c5ce246e",
   "metadata": {},
   "source": [
    "Ans a. EOFError: This error is raised when an input function such as input() or raw_input() reaches the end of the file being read before it can read any data. It typically occurs when the program expects more input but encounters the end of the file.\n",
    "\n",
    "b. FloatingPointError: This error is raised when a floating-point calculation or operation results in an exceptional condition that cannot be handled, such as division by zero or an invalid mathematical operation.\n",
    "\n",
    "c. IndexError: This error is raised when trying to access a list, tuple, or string with an index that is out of range. It occurs when attempting to access an element at an index that does not exist.\n",
    "\n",
    "d. MemoryError: This error is raised when a program runs out of available memory to perform a requested operation. It typically occurs when the program tries to allocate more memory than the system can provide.\n",
    "\n",
    "e. OverflowError: This error is raised when a calculation exceeds the maximum limit or range of a numeric type, such as an integer or a floating-point number. It occurs when the result of a calculation is too large to be represented by the data type.\n",
    "\n",
    "f. TabError: This error is raised when there is an improper use of tabs and spaces for indentation in Python code. It typically occurs when mixing tabs and spaces or when the indentation level is inconsistent.\n",
    "\n",
    "g. ValueError: This error is raised when a function receives an argument of the correct data type but an inappropriate value. It occurs when the input value is not suitable or valid for the specific operation or function being performed."
   ]
  },
  {
   "cell_type": "code",
   "execution_count": 28,
   "id": "a17ae36d-997f-4f2e-bca6-6406dc50f267",
   "metadata": {},
   "outputs": [
    {
     "name": "stdin",
     "output_type": "stream",
     "text": [
      "Enter the first number:  12\n",
      "Enter the second number:  8\n"
     ]
    },
    {
     "name": "stdout",
     "output_type": "stream",
     "text": [
      "Result: 1.5\n"
     ]
    },
    {
     "name": "stdin",
     "output_type": "stream",
     "text": [
      "Enter a number as a string:  sss\n"
     ]
    },
    {
     "name": "stdout",
     "output_type": "stream",
     "text": [
      "Error: Invalid input. Could not convert the string to an integer.\n"
     ]
    }
   ],
   "source": [
    "'''\n",
    "8.Write code for the following given scenario and add try-exception block to it.\n",
    "a. Program to divide two numbers\n",
    "b. Program to convert a string to an integer\n",
    "c. Program to access an element in a list\n",
    "d. Program to handle a specific exception\n",
    "e. Program to handle any exception\n",
    "'''\n",
    "# Program to divide two numbers:\n",
    "try:\n",
    "    num1 = float(input(\"Enter the first number: \"))\n",
    "    num2 = float(input(\"Enter the second number: \"))\n",
    "\n",
    "    result = num1 / num2\n",
    "\n",
    "    print(\"Result:\", result)\n",
    "\n",
    "except ZeroDivisionError:\n",
    "    print(\"Error: Cannot divide by zero.\")\n",
    "    \n"
   ]
  },
  {
   "cell_type": "code",
   "execution_count": 29,
   "id": "8eb2f80c-8ae8-491d-a59a-e7d9f272eac3",
   "metadata": {},
   "outputs": [
    {
     "name": "stdin",
     "output_type": "stream",
     "text": [
      "Enter a number as a string:  shadab\n"
     ]
    },
    {
     "name": "stdout",
     "output_type": "stream",
     "text": [
      "Error: Invalid input. Could not convert the string to an integer.\n"
     ]
    }
   ],
   "source": [
    "#Program to convert a string to an integer:\n",
    "\n",
    "try:\n",
    "    string_num = input(\"Enter a number as a string: \")\n",
    "\n",
    "    number = int(string_num)\n",
    "\n",
    "    print(\"Number:\", number)\n",
    "\n",
    "except ValueError:\n",
    "    print(\"Error: Invalid input. Could not convert the string to an integer.\")"
   ]
  },
  {
   "cell_type": "code",
   "execution_count": 30,
   "id": "4bd2b11f-220f-4bab-bf8c-3a1ad24061a6",
   "metadata": {},
   "outputs": [
    {
     "name": "stdin",
     "output_type": "stream",
     "text": [
      "Enter the index to access in the list:  3\n"
     ]
    },
    {
     "name": "stdout",
     "output_type": "stream",
     "text": [
      "Element at index 3 : 4\n"
     ]
    }
   ],
   "source": [
    "#Program to access an element in a list:\n",
    "try:\n",
    "    my_list = [1, 2, 3, 4, 5]\n",
    "    index = int(input(\"Enter the index to access in the list: \"))\n",
    "\n",
    "    element = my_list[index]\n",
    "\n",
    "    print(\"Element at index\", index, \":\", element)\n",
    "\n",
    "except IndexError:\n",
    "    print(\"Error: Index out of range.\")"
   ]
  },
  {
   "cell_type": "code",
   "execution_count": 31,
   "id": "3f4b5f15-972a-461a-85e0-09082a1b659d",
   "metadata": {},
   "outputs": [
    {
     "name": "stdin",
     "output_type": "stream",
     "text": [
      "Enter your age:  14\n"
     ]
    },
    {
     "name": "stdout",
     "output_type": "stream",
     "text": [
      "Age: 14\n"
     ]
    }
   ],
   "source": [
    "#Program to handle a specific exception:\n",
    "try:\n",
    "    age = int(input(\"Enter your age: \"))\n",
    "\n",
    "    if age < 0:\n",
    "        raise ValueError(\"Age cannot be negative.\")\n",
    "\n",
    "    print(\"Age:\", age)\n",
    "\n",
    "except ValueError as e:\n",
    "    print(\"Error:\", str(e))"
   ]
  },
  {
   "cell_type": "code",
   "execution_count": 33,
   "id": "a38e1a52-6285-402c-8f6f-eaacc6bfae4b",
   "metadata": {},
   "outputs": [
    {
     "name": "stdin",
     "output_type": "stream",
     "text": [
      "Enter a number:  15\n",
      "Enter another number:  12\n"
     ]
    },
    {
     "name": "stdout",
     "output_type": "stream",
     "text": [
      "Result: 1.25\n"
     ]
    }
   ],
   "source": [
    "#Program to handle any except:\n",
    "try:\n",
    "    x = int(input(\"Enter a number: \"))\n",
    "    y = int(input(\"Enter another number: \"))\n",
    "\n",
    "    result = x / y\n",
    "\n",
    "    print(\"Result:\", result)\n",
    "\n",
    "except Exception as e:\n",
    "    print(\"Error:\", str(e))\n",
    "#Note: In the last example, the Exception class is used to catch any exception. However, it is generally recommended to catch specific exceptions whenever possible to provide more targeted error handling.\n",
    "\n",
    "\n",
    "\n",
    "\n",
    "\n",
    "\n"
   ]
  },
  {
   "cell_type": "code",
   "execution_count": null,
   "id": "cd09ea81-4ec8-4ba9-91f9-45319cc67b6c",
   "metadata": {},
   "outputs": [],
   "source": []
  }
 ],
 "metadata": {
  "kernelspec": {
   "display_name": "Python 3 (ipykernel)",
   "language": "python",
   "name": "python3"
  },
  "language_info": {
   "codemirror_mode": {
    "name": "ipython",
    "version": 3
   },
   "file_extension": ".py",
   "mimetype": "text/x-python",
   "name": "python",
   "nbconvert_exporter": "python",
   "pygments_lexer": "ipython3",
   "version": "3.10.6"
  }
 },
 "nbformat": 4,
 "nbformat_minor": 5
}
